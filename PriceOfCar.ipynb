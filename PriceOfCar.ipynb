{
 "cells": [
  {
   "cell_type": "markdown",
   "metadata": {},
   "source": [
    "# What drives the price of a car?\n",
    "\n",
    "![](images/kurt.jpeg)"
   ]
  },
  {
   "cell_type": "markdown",
   "metadata": {},
   "source": [
    "**OVERVIEW**\n",
    "\n",
    "In this application, you will explore a dataset from kaggle. The original dataset contained information on 3 million used cars. The provided dataset contains information on 426K cars to ensure speed of processing.  Your goal is to understand what factors make a car more or less expensive.  As a result of your analysis, you should provide clear recommendations to your client -- a used car dealership -- as to what consumers value in a used car."
   ]
  },
  {
   "cell_type": "markdown",
   "metadata": {},
   "source": [
    "### CRISP-DM Framework\n",
    "\n",
    "<center>\n",
    "    <img src = images/crisp.png width = 50%/>\n",
    "</center>\n",
    "\n",
    "\n",
    "To frame the task, throughout our practical applications we will refer back to a standard process in industry for data projects called CRISP-DM.  This process provides a framework for working through a data problem.  Your first step in this application will be to read through a brief overview of CRISP-DM [here](https://mo-pcco.s3.us-east-1.amazonaws.com/BH-PCMLAI/module_11/readings_starter.zip).  After reading the overview, answer the questions below."
   ]
  },
  {
   "cell_type": "markdown",
   "metadata": {},
   "source": [
    "### Business Understanding\n",
    "\n",
    "From a business perspective, we are tasked with identifying key drivers for used car prices.  In the CRISP-DM overview, we are asked to convert this business framing to a data problem definition.  Using a few sentences, reframe the task as a data task with the appropriate technical vocabulary. "
   ]
  },
  {
   "cell_type": "code",
   "execution_count": 2,
   "metadata": {},
   "outputs": [
    {
     "name": "stdout",
     "output_type": "stream",
     "text": [
      "The objective is to conduct exploratory data analysis (EDA) and predictive modeling to discern the factors influencing the pricing of used cars. This involves extracting insights from a dataset of 426K cars, focusing on features such as mileage, age, brand, model, and other relevant attributes. The aim is to develop a regression model that accurately predicts car prices based on these features, thereby providing actionable insights to optimize pricing strategies for the dealership.\n"
     ]
    }
   ],
   "source": [
    "print(\"The objective is to conduct exploratory data analysis (EDA) and predictive modeling to discern the factors influencing the pricing of used cars. This involves extracting insights from a dataset of 426K cars, focusing on features such as mileage, age, brand, model, and other relevant attributes. The aim is to develop a regression model that accurately predicts car prices based on these features, thereby providing actionable insights to optimize pricing strategies for the dealership.\")"
   ]
  },
  {
   "cell_type": "code",
   "execution_count": null,
   "metadata": {},
   "outputs": [],
   "source": []
  },
  {
   "cell_type": "code",
   "execution_count": null,
   "metadata": {},
   "outputs": [],
   "source": []
  },
  {
   "cell_type": "code",
   "execution_count": null,
   "metadata": {},
   "outputs": [],
   "source": []
  },
  {
   "cell_type": "markdown",
   "metadata": {},
   "source": [
    "### Data Understanding\n",
    "\n",
    "After considering the business understanding, we want to get familiar with our data.  Write down some steps that you would take to get to know the dataset and identify any quality issues within.  Take time to get to know the dataset and explore what information it contains and how this could be used to inform your business understanding."
   ]
  },
  {
   "cell_type": "code",
   "execution_count": 4,
   "metadata": {},
   "outputs": [
    {
     "name": "stdout",
     "output_type": "stream",
     "text": [
      "           id                  region  price  year manufacturer model  \\\n",
      "0  7222695916                prescott   6000   NaN          NaN   NaN   \n",
      "1  7218891961            fayetteville  11900   NaN          NaN   NaN   \n",
      "2  7221797935            florida keys  21000   NaN          NaN   NaN   \n",
      "3  7222270760  worcester / central MA   1500   NaN          NaN   NaN   \n",
      "4  7210384030              greensboro   4900   NaN          NaN   NaN   \n",
      "\n",
      "  condition cylinders fuel  odometer title_status transmission  VIN drive  \\\n",
      "0       NaN       NaN  NaN       NaN          NaN          NaN  NaN   NaN   \n",
      "1       NaN       NaN  NaN       NaN          NaN          NaN  NaN   NaN   \n",
      "2       NaN       NaN  NaN       NaN          NaN          NaN  NaN   NaN   \n",
      "3       NaN       NaN  NaN       NaN          NaN          NaN  NaN   NaN   \n",
      "4       NaN       NaN  NaN       NaN          NaN          NaN  NaN   NaN   \n",
      "\n",
      "  size type paint_color state  \n",
      "0  NaN  NaN         NaN    az  \n",
      "1  NaN  NaN         NaN    ar  \n",
      "2  NaN  NaN         NaN    fl  \n",
      "3  NaN  NaN         NaN    ma  \n",
      "4  NaN  NaN         NaN    nc  \n"
     ]
    }
   ],
   "source": [
    "import pandas as pd\n",
    "\n",
    "# Load the dataset\n",
    "df = pd.read_csv(r'C:\\Users\\sriva\\Downloads\\practical_application_II_starter\\data\\vehicles.csv')  \n",
    "print(df.head())"
   ]
  },
  {
   "cell_type": "code",
   "execution_count": 5,
   "metadata": {},
   "outputs": [
    {
     "name": "stdout",
     "output_type": "stream",
     "text": [
      "Index(['id', 'region', 'price', 'year', 'manufacturer', 'model', 'condition',\n",
      "       'cylinders', 'fuel', 'odometer', 'title_status', 'transmission', 'VIN',\n",
      "       'drive', 'size', 'type', 'paint_color', 'state'],\n",
      "      dtype='object')\n"
     ]
    }
   ],
   "source": [
    "print(df.columns)"
   ]
  },
  {
   "cell_type": "code",
   "execution_count": 6,
   "metadata": {},
   "outputs": [
    {
     "name": "stdout",
     "output_type": "stream",
     "text": [
      "id                int64\n",
      "region           object\n",
      "price             int64\n",
      "year            float64\n",
      "manufacturer     object\n",
      "model            object\n",
      "condition        object\n",
      "cylinders        object\n",
      "fuel             object\n",
      "odometer        float64\n",
      "title_status     object\n",
      "transmission     object\n",
      "VIN              object\n",
      "drive            object\n",
      "size             object\n",
      "type             object\n",
      "paint_color      object\n",
      "state            object\n",
      "dtype: object\n"
     ]
    }
   ],
   "source": [
    "print(df.dtypes)"
   ]
  },
  {
   "cell_type": "code",
   "execution_count": 7,
   "metadata": {},
   "outputs": [
    {
     "name": "stdout",
     "output_type": "stream",
     "text": [
      "                 id         price           year      odometer\n",
      "count  4.268800e+05  4.268800e+05  425675.000000  4.224800e+05\n",
      "mean   7.311487e+09  7.519903e+04    2011.235191  9.804333e+04\n",
      "std    4.473170e+06  1.218228e+07       9.452120  2.138815e+05\n",
      "min    7.207408e+09  0.000000e+00    1900.000000  0.000000e+00\n",
      "25%    7.308143e+09  5.900000e+03    2008.000000  3.770400e+04\n",
      "50%    7.312621e+09  1.395000e+04    2013.000000  8.554800e+04\n",
      "75%    7.315254e+09  2.648575e+04    2017.000000  1.335425e+05\n",
      "max    7.317101e+09  3.736929e+09    2022.000000  1.000000e+07\n"
     ]
    }
   ],
   "source": [
    "print(df.describe())"
   ]
  },
  {
   "cell_type": "code",
   "execution_count": 8,
   "metadata": {},
   "outputs": [
    {
     "name": "stdout",
     "output_type": "stream",
     "text": [
      "id                   0\n",
      "region               0\n",
      "price                0\n",
      "year              1205\n",
      "manufacturer     17646\n",
      "model             5277\n",
      "condition       174104\n",
      "cylinders       177678\n",
      "fuel              3013\n",
      "odometer          4400\n",
      "title_status      8242\n",
      "transmission      2556\n",
      "VIN             161042\n",
      "drive           130567\n",
      "size            306361\n",
      "type             92858\n",
      "paint_color     130203\n",
      "state                0\n",
      "dtype: int64\n"
     ]
    }
   ],
   "source": [
    "print(df.isnull().sum())"
   ]
  },
  {
   "cell_type": "code",
   "execution_count": 9,
   "metadata": {},
   "outputs": [],
   "source": [
    "# Impute missing values for 'year' with median\n",
    "median_year = df['year'].median()\n",
    "df['year'].fillna(median_year, inplace=True)\n",
    "\n",
    "# Impute missing values for 'odometer' with mean\n",
    "mean_odometer = df['odometer'].mean()\n",
    "df['odometer'].fillna(mean_odometer, inplace=True)\n",
    "\n",
    "# Impute missing categorical values with mode\n",
    "categorical_columns = ['manufacturer', 'model', 'condition', 'cylinders', 'fuel', 'title_status', 'transmission',\n",
    "                       'drive', 'size', 'type', 'paint_color']\n",
    "\n",
    "for col in categorical_columns:\n",
    "    mode_value = df[col].mode()[0]\n",
    "    df[col].fillna(mode_value, inplace=True)\n",
    "\n",
    "# Drop columns with a large number of missing values that are not relevant\n",
    "df.drop(['VIN', 'size'], axis=1, inplace=True)"
   ]
  },
  {
   "cell_type": "code",
   "execution_count": 10,
   "metadata": {},
   "outputs": [
    {
     "name": "stdout",
     "output_type": "stream",
     "text": [
      "region : 404 unique values\n",
      "region\n",
      "columbus                   3608\n",
      "jacksonville               3562\n",
      "spokane / coeur d'alene    2988\n",
      "eugene                     2985\n",
      "fresno / madera            2983\n",
      "                           ... \n",
      "meridian                     28\n",
      "southwest MS                 14\n",
      "kansas city                  11\n",
      "fort smith, AR                9\n",
      "west virginia (old)           8\n",
      "Name: count, Length: 404, dtype: int64 \n",
      "\n",
      "manufacturer : 42 unique values\n",
      "manufacturer\n",
      "ford               88631\n",
      "chevrolet          55064\n",
      "toyota             34202\n",
      "honda              21269\n",
      "nissan             19067\n",
      "jeep               19014\n",
      "ram                18342\n",
      "gmc                16785\n",
      "bmw                14699\n",
      "dodge              13707\n",
      "mercedes-benz      11817\n",
      "hyundai            10338\n",
      "subaru              9495\n",
      "volkswagen          9345\n",
      "kia                 8457\n",
      "lexus               8200\n",
      "audi                7573\n",
      "cadillac            6953\n",
      "chrysler            6031\n",
      "acura               5978\n",
      "buick               5501\n",
      "mazda               5427\n",
      "infiniti            4802\n",
      "lincoln             4220\n",
      "volvo               3374\n",
      "mitsubishi          3292\n",
      "mini                2376\n",
      "pontiac             2288\n",
      "rover               2113\n",
      "jaguar              1946\n",
      "porsche             1384\n",
      "mercury             1184\n",
      "saturn              1090\n",
      "alfa-romeo           897\n",
      "tesla                868\n",
      "fiat                 792\n",
      "harley-davidson      153\n",
      "ferrari               95\n",
      "datsun                63\n",
      "aston-martin          24\n",
      "land rover            21\n",
      "morgan                 3\n",
      "Name: count, dtype: int64 \n",
      "\n",
      "model : 29649 unique values\n",
      "model\n",
      "f-150                      13286\n",
      "silverado 1500              5140\n",
      "1500                        4211\n",
      "camry                       3135\n",
      "silverado                   3023\n",
      "                           ...  \n",
      "plymouth fury 1                1\n",
      "f550 box truck delivery        1\n",
      "duramax 2500hd                 1\n",
      "3 s sport                      1\n",
      "Paige Glenbrook Touring        1\n",
      "Name: count, Length: 29649, dtype: int64 \n",
      "\n",
      "condition : 6 unique values\n",
      "condition\n",
      "good         295560\n",
      "excellent    101467\n",
      "like new      21178\n",
      "fair           6769\n",
      "new            1305\n",
      "salvage         601\n",
      "Name: count, dtype: int64 \n",
      "\n",
      "cylinders : 8 unique values\n",
      "cylinders\n",
      "6 cylinders     271847\n",
      "4 cylinders      77642\n",
      "8 cylinders      72062\n",
      "5 cylinders       1712\n",
      "10 cylinders      1455\n",
      "other             1298\n",
      "3 cylinders        655\n",
      "12 cylinders       209\n",
      "Name: count, dtype: int64 \n",
      "\n",
      "fuel : 5 unique values\n",
      "fuel\n",
      "gas         359222\n",
      "other        30728\n",
      "diesel       30062\n",
      "hybrid        5170\n",
      "electric      1698\n",
      "Name: count, dtype: int64 \n",
      "\n",
      "title_status : 6 unique values\n",
      "title_status\n",
      "clean         413359\n",
      "rebuilt         7219\n",
      "salvage         3868\n",
      "lien            1422\n",
      "missing          814\n",
      "parts only       198\n",
      "Name: count, dtype: int64 \n",
      "\n",
      "transmission : 3 unique values\n",
      "transmission\n",
      "automatic    339080\n",
      "other         62682\n",
      "manual        25118\n",
      "Name: count, dtype: int64 \n",
      "\n",
      "drive : 3 unique values\n",
      "drive\n",
      "4wd    262471\n",
      "fwd    105517\n",
      "rwd     58892\n",
      "Name: count, dtype: int64 \n",
      "\n",
      "type : 13 unique values\n",
      "type\n",
      "sedan          179914\n",
      "SUV             77284\n",
      "pickup          43510\n",
      "truck           35279\n",
      "other           22110\n",
      "coupe           19204\n",
      "hatchback       16598\n",
      "wagon           10751\n",
      "van              8548\n",
      "convertible      7731\n",
      "mini-van         4825\n",
      "offroad           609\n",
      "bus               517\n",
      "Name: count, dtype: int64 \n",
      "\n",
      "paint_color : 12 unique values\n",
      "paint_color\n",
      "white     209488\n",
      "black      62861\n",
      "silver     42970\n",
      "blue       31223\n",
      "red        30473\n",
      "grey       24416\n",
      "green       7343\n",
      "custom      6700\n",
      "brown       6593\n",
      "yellow      2142\n",
      "orange      1984\n",
      "purple       687\n",
      "Name: count, dtype: int64 \n",
      "\n",
      "state : 51 unique values\n",
      "state\n",
      "ca    50614\n",
      "fl    28511\n",
      "tx    22945\n",
      "ny    19386\n",
      "oh    17696\n",
      "or    17104\n",
      "mi    16900\n",
      "nc    15277\n",
      "wa    13861\n",
      "pa    13753\n",
      "wi    11398\n",
      "co    11088\n",
      "tn    11066\n",
      "va    10732\n",
      "il    10387\n",
      "nj     9742\n",
      "id     8961\n",
      "az     8679\n",
      "ia     8632\n",
      "ma     8174\n",
      "mn     7716\n",
      "ga     7003\n",
      "ok     6792\n",
      "sc     6327\n",
      "mt     6294\n",
      "ks     6209\n",
      "in     5704\n",
      "ct     5188\n",
      "al     4955\n",
      "md     4778\n",
      "nm     4425\n",
      "mo     4293\n",
      "ky     4149\n",
      "ar     4038\n",
      "ak     3474\n",
      "la     3196\n",
      "nv     3194\n",
      "nh     2981\n",
      "dc     2970\n",
      "me     2966\n",
      "hi     2964\n",
      "vt     2513\n",
      "ri     2320\n",
      "sd     1302\n",
      "ut     1150\n",
      "wv     1052\n",
      "ne     1036\n",
      "ms     1016\n",
      "de      949\n",
      "wy      610\n",
      "nd      410\n",
      "Name: count, dtype: int64 \n",
      "\n"
     ]
    }
   ],
   "source": [
    "# Explore categorial values\n",
    "categorical_columns = df.select_dtypes(include=['object']).columns\n",
    "for col in categorical_columns:\n",
    "    print(col, ':', df[col].nunique(), 'unique values')\n",
    "    print(df[col].value_counts(), '\\n')"
   ]
  },
  {
   "cell_type": "code",
   "execution_count": 13,
   "metadata": {},
   "outputs": [],
   "source": [
    "import pandas as pd\n",
    "\n",
    "# Handling missing values for categorical variables\n",
    "categorical_columns = ['manufacturer', 'model', 'condition', 'cylinders', 'fuel', 'title_status', \n",
    "                       'transmission', 'drive', 'type', 'paint_color']\n",
    "\n",
    "# Fill missing categorical values with mode\n",
    "for col in categorical_columns:\n",
    "    mode_value = df[col].mode()[0]\n",
    "    df[col].fillna(mode_value, inplace=True)\n",
    "\n",
    "# Handle 'state' column separately (optional)\n",
    "df['state'].fillna('Unknown', inplace=True)"
   ]
  },
  {
   "cell_type": "code",
   "execution_count": 14,
   "metadata": {},
   "outputs": [
    {
     "data": {
      "image/png": "[encoded data removed]",
      "text/plain": [
       "<Figure size 1200x1000 with 4 Axes>"
      ]
     },
     "metadata": {},
     "output_type": "display_data"
    },
    {
     "data": {
      "image/png": "[encoded data removed]",
      "text/plain": [
       "<Figure size 1000x600 with 1 Axes>"
      ]
     },
     "metadata": {},
     "output_type": "display_data"
    }
   ],
   "source": [
    "# Visualisation\n",
    "import matplotlib.pyplot as plt\n",
    "import seaborn as sns\n",
    "\n",
    "# Example: Histogram of numerical columns\n",
    "df.hist(figsize=(12, 10))\n",
    "plt.show()\n",
    "\n",
    "# Example: Box plot of price distribution\n",
    "plt.figure(figsize=(10, 6))\n",
    "sns.boxplot(x='price', data=df)\n",
    "plt.show()"
   ]
  },
  {
   "cell_type": "markdown",
   "metadata": {},
   "source": [
    "### Data Preparation\n",
    "\n",
    "After our initial exploration and fine tuning of the business understanding, it is time to construct our final dataset prior to modeling.  Here, we want to make sure to handle any integrity issues and cleaning, the engineering of new features, any transformations that we believe should happen (scaling, logarithms, normalization, etc.), and general preparation for modeling with `sklearn`. "
   ]
  },
  {
   "cell_type": "code",
   "execution_count": 16,
   "metadata": {},
   "outputs": [
    {
     "name": "stdout",
     "output_type": "stream",
     "text": [
      "Column 'VIN' not found in DataFrame.\n",
      "id          0\n",
      "region      0\n",
      "price       0\n",
      "year        0\n",
      "model       0\n",
      "           ..\n",
      "state_vt    0\n",
      "state_wa    0\n",
      "state_wi    0\n",
      "state_wv    0\n",
      "state_wy    0\n",
      "Length: 150, dtype: int64\n"
     ]
    }
   ],
   "source": [
    "import pandas as pd\n",
    "import numpy as np\n",
    "from sklearn.preprocessing import MinMaxScaler\n",
    "\n",
    "# Convert 'year' to integer\n",
    "df['year'] = df['year'].astype('Int64')  # Use 'Int64' to allow NaNs\n",
    "\n",
    "# Handle missing values in specific columns\n",
    "columns_to_fill_median = ['year', 'odometer']  # Columns to fill with median\n",
    "columns_to_fill_mode = ['manufacturer', 'model', 'condition', 'cylinders', 'fuel', \n",
    "                        'title_status', 'transmission', 'drive', 'type', 'paint_color']  # Columns to fill with mode\n",
    "\n",
    "for col in columns_to_fill_median:\n",
    "    df[col].fillna(df[col].median(), inplace=True)\n",
    "\n",
    "for col in columns_to_fill_mode:\n",
    "    df[col].fillna(df[col].mode()[0], inplace=True)\n",
    "\n",
    "# Dont believe that 'VIN' is relevant for modeling based on the following: \n",
    "# 1. Business context: VIN provide unique identification for every vehcile not a specific vehicle features?\n",
    "# 2. Analytical context: VIN is not necessary for predicting prices,  similar information be derived from other features.\n",
    "try:\n",
    "    df.drop(['VIN'], axis=1, inplace=True)\n",
    "except KeyError:\n",
    "    print(\"Column 'VIN' not found in DataFrame.\")\n",
    "# As VIN is not relevant for modeling, drop the column\n",
    "#df.drop(['VIN'], axis=1, inplace=True)\n",
    "\n",
    "# Create new features\n",
    "df['age'] = 2024 - df['year']\n",
    "df['odometer_per_year'] = df['odometer'] / df['age']\n",
    "\n",
    "# One-hot encoding for categorical variables\n",
    "df_encoded = pd.get_dummies(df, columns=['manufacturer', 'condition', 'fuel', 'title_status', \n",
    "                                         'transmission', 'drive', 'type', 'paint_color', 'state'])\n",
    "\n",
    "# Normalize numeric features using MinMaxScaler\n",
    "scaler = MinMaxScaler()\n",
    "numeric_cols = ['age', 'odometer', 'odometer_per_year']\n",
    "df_encoded[numeric_cols] = scaler.fit_transform(df_encoded[numeric_cols])\n",
    "\n",
    "# Check for any remaining missing values or outliers\n",
    "# Check for missing values\n",
    "missing_values = df_encoded.isnull().sum()\n",
    "print(missing_values)\n"
   ]
  },
  {
   "cell_type": "code",
   "execution_count": 17,
   "metadata": {},
   "outputs": [
    {
     "name": "stdout",
     "output_type": "stream",
     "text": [
      "Indices of outliers: [   455    562    615    616    618    621    625   1397   1398   1399\n",
      "   1402   1404   1405   1408   1409   1561   1562   1588   1592   1593\n",
      "   1643   1646   1647   1648   1649   1651   1653   1654   1662   1663\n",
      "   1667   1669   1670   4614   8851   9218  10150  12929  13517  13520\n",
      "  13529  14045  18443  23100  23566  24521  24691  25087  26153  26321\n",
      "  26957  26960  26971  27200  28738  28907  29165  29285  29381  31540\n",
      "  32137  32890  32984  33415  33449  33549  34702  34717  35004  36812\n",
      "  39076  39078  41517  43183  44280  53040  63430  64168  65611  65612\n",
      "  66062  67001  67003  67973  68419  70227  71008  71010  71856  72568\n",
      "  72799  74721  75233  75267  75913  76153  76874  77786  78100  78760\n",
      "  80490  80862  81327  83367  83380  85153  87706  87756  91045  91530\n",
      "  91605  91807  93942  94253  95315  97847  98197 100026 101716 101915\n",
      " 103069 103798 103849 104683 105059 106192 106542 106632 107102 107458\n",
      " 107510 108102 108249 108762 108797 109407 109793 109840 110141 110253\n",
      " 110623 110658 110715 110964 111811 112821 112822 112823 112824 112826\n",
      " 112827 112829 112831 112832 112834 112835 112836 113164 113622 116908\n",
      " 117591 119184 119725 120240 120266 121361 121895 122470 123963 124387\n",
      " 124537 125321 130058 130476 131913 132186 132467 133428 134959 137937\n",
      " 137947 138668 139393 140271 140278 140320 140464 140555 142061 142114\n",
      " 142427 142538 142568 144401 144436 145059 147074 148706 149229 149788\n",
      " 150242 150478 150830 151648 151740 151773 152394 152499 152928 153249\n",
      " 153524 153786 154048 156057 157124 161609 165606 165854 165962 166255\n",
      " 170473 171303 172456 172766 176057 178789 178811 181806 182407 182845\n",
      " 185704 187482 188227 189202 189362 189452 191629 194716 194748 194776\n",
      " 198825 199941 200214 201067 201148 202502 203285 203534 203579 203597\n",
      " 204132 204236 204293 205938 206372 206550 207649 207719 207889 208157\n",
      " 208160 211121 212152 212504 212646 212819 215667 216337 217319 217320\n",
      " 217321 219681 221009 222199 223166 225238 227219 227574 231785 232133\n",
      " 232247 232821 232890 233173 233706 234084 234859 235716 235816 235987\n",
      " 237511 238710 238718 238897 238911 239304 239314 239316 242659 248618\n",
      " 248639 249191 249832 250431 253446 253864 255853 256008 256060 256546\n",
      " 258052 258932 259119 260946 260971 262319 262320 262321 262322 262323\n",
      " 262324 262325 262326 262327 262328 262329 262330 262338 262403 262404\n",
      " 262406 262407 262408 262409 262410 262411 262480 262481 262482 262483\n",
      " 262484 262485 262531 262532 262533 262534 262535 262766 262876 264927\n",
      " 265677 266724 268352 269845 270428 270430 270757 271381 272254 275489\n",
      " 275504 276921 279259 279563 283646 287046 287115 291730 292399 292888\n",
      " 300044 300565 303349 305172 305382 307516 312598 316024 317864 319479\n",
      " 320410 320461 322029 325072 327164 327934 328374 328533 329748 332115\n",
      " 332520 332713 332963 334468 334534 334601 335054 335407 335491 339383\n",
      " 340694 342894 343541 344186 346428 346469 347689 348778 349393 350336\n",
      " 350893 353492 354970 355243 357588 358159 359830 360497 361122 363793\n",
      " 365481 366086 366312 366724 366725 366726 366727 366728 366733 366802\n",
      " 366804 366819 366821 366825 366826 366827 366828 366829 366833 366843\n",
      " 366858 366863 366864 366865 366866 366877 366879 366885 366886 366909\n",
      " 366955 366959 366960 366990 366991 367023 367025 367039 367040 367042\n",
      " 368939 369239 369689 369767 371472 371729 371839 371890 372121 372122\n",
      " 372123 372124 372126 372127 372128 372129 372130 372131 372132 372133\n",
      " 372158 372487 372552 372553 372554 372555 372556 372557 372558 372559\n",
      " 372598 372873 372955 372956 372957 372958 372959 372960 372965 373103\n",
      " 373358 373359 373360 373362 373363 373365 373366 373370 373433 373446\n",
      " 373485 373560 376599 377641 377692 378377 378426 378427 378428 378429\n",
      " 378430 378498 378548 378565 378574 378615 378618 378640 378641 378642\n",
      " 378643 378644 378698 378708 378753 378768 378804 378805 378806 378807\n",
      " 378810 378819 378848 378859 378860 378922 379001 379017 379056 379059\n",
      " 379062 379135 379172 379199 379251 379259 379260 379330 379332 379333\n",
      " 379335 379675 379706 380549 381407 383034 383946 385754 386654 386655\n",
      " 388453 389794 390252 390922 391620 391670 392708 394247 398088 398438\n",
      " 398447 405356 408991 409348 413267 414989 415915 419355 419494 423091\n",
      " 423341 426106]\n"
     ]
    }
   ],
   "source": [
    "#Z-score to detect outliers\n",
    "from scipy import stats\n",
    "\n",
    "# Calculate Z-score for 'odometer_per_year'\n",
    "z_scores = stats.zscore(df_encoded['odometer_per_year'])\n",
    "\n",
    "# Define threshold for outlier detection (e.g., Z-score > 3 or < -3)\n",
    "threshold = 3\n",
    "outliers = np.where(np.abs(z_scores) > threshold)[0]\n",
    "\n",
    "print(\"Indices of outliers:\", outliers)"
   ]
  },
  {
   "cell_type": "code",
   "execution_count": 18,
   "metadata": {},
   "outputs": [],
   "source": [
    "# Remove outliers from 'df_encoded'\n",
    "df_cleaned = df_encoded[(np.abs(z_scores) <= threshold)]"
   ]
  },
  {
   "cell_type": "code",
   "execution_count": 19,
   "metadata": {},
   "outputs": [],
   "source": [
    "# Cap outliers in 'odometer_per_year' to threshold values\n",
    "df_encoded['odometer_per_year'] = np.clip(df_encoded['odometer_per_year'], df_encoded['odometer_per_year'].quantile(0.05), df_encoded['odometer_per_year'].quantile(0.95))"
   ]
  },
  {
   "cell_type": "code",
   "execution_count": 37,
   "metadata": {},
   "outputs": [
    {
     "name": "stdout",
     "output_type": "stream",
     "text": [
      "Non-numeric columns: Index([], dtype='object')\n",
      "id            int64\n",
      "price         int64\n",
      "year          Int64\n",
      "odometer    float64\n",
      "age           Int64\n",
      "             ...   \n",
      "state_vt       bool\n",
      "state_wa       bool\n",
      "state_wi       bool\n",
      "state_wv       bool\n",
      "state_wy       bool\n",
      "Length: 30208, dtype: object\n"
     ]
    }
   ],
   "source": [
    "# Example handling categorical variables and ensuring numeric data types\n",
    "\n",
    "# Assuming df is your DataFrame with mixed data types including non-numeric\n",
    "# Identify and encode categorical variables\n",
    "df_encoded = pd.get_dummies(df, columns=['region', 'manufacturer', 'model', 'condition', 'cylinders', \n",
    "                                         'fuel', 'title_status', 'transmission', 'drive', 'type', \n",
    "                                         'paint_color', 'state'])\n",
    "\n",
    "# Check for remaining non-numeric columns\n",
    "non_numeric_columns = df_encoded.select_dtypes(include=['object']).columns\n",
    "print(\"Non-numeric columns:\", non_numeric_columns)\n",
    "\n",
    "# Convert any remaining object columns to numeric (if possible)\n",
    "for col in non_numeric_columns:\n",
    "    if df_encoded[col].dtype == 'object':\n",
    "        df_encoded[col] = pd.to_numeric(df_encoded[col], errors='coerce')\n",
    "\n",
    "# Check data types again to ensure all numeric\n",
    "print(df_encoded.dtypes)\n",
    "\n",
    "# Handle missing values if any\n",
    "df_encoded.fillna(df_encoded.mean(), inplace=True)  # Example: Fill missing values with mean\n",
    "\n",
    "# Now proceed with feature selection or modeling"
   ]
  },
  {
   "cell_type": "markdown",
   "metadata": {},
   "source": [
    "### Modeling\n",
    "\n",
    "With your (almost?) final dataset in hand, it is now time to build some models.  Here, you should build a number of different regression models with the price as the target.  In building your models, you should explore different parameters and be sure to cross-validate your findings."
   ]
  },
  {
   "cell_type": "code",
   "execution_count": 35,
   "metadata": {},
   "outputs": [
    {
     "data": {
      "image/png": "[encoded data removed]",
      "text/plain": [
       "<Figure size 800x600 with 2 Axes>"
      ]
     },
     "metadata": {},
     "output_type": "display_data"
    },
    {
     "name": "stdout",
     "output_type": "stream",
     "text": [
      "Selected Features: []\n",
      "Final Dataset:\n",
      "        price\n",
      "0        6000\n",
      "1       11900\n",
      "2       21000\n",
      "3        1500\n",
      "4        4900\n",
      "...       ...\n",
      "426875  23590\n",
      "426876  30590\n",
      "426877  34990\n",
      "426878  28990\n",
      "426879  30590\n",
      "\n",
      "[426880 rows x 1 columns]\n"
     ]
    }
   ],
   "source": [
    "# Identify numeric columns for correlation\n",
    "numeric_columns = df_encoded.select_dtypes(include=[np.number]).columns.tolist()\n",
    "\n",
    "# Calculate correlation matrix for numeric columns\n",
    "corr_matrix = df_encoded[numeric_columns].corr()\n",
    "\n",
    "# Plotting correlation matrix (optional)\n",
    "plt.figure(figsize=(8, 6))\n",
    "sns.heatmap(corr_matrix, annot=True, cmap='coolwarm', fmt=\".2f\", annot_kws={\"size\": 10})\n",
    "plt.title('Correlation Matrix')\n",
    "plt.show()\n",
    "\n",
    "# Select features based on correlation with target variable 'price'\n",
    "target_corr_threshold = 0.1  # Example threshold for correlation coefficient\n",
    "\n",
    "# Selecting features\n",
    "selected_features = corr_matrix.loc[(corr_matrix['price'].abs() > target_corr_threshold) & (corr_matrix.index != 'price')].index.tolist()\n",
    "\n",
    "# Create final dataset with selected features\n",
    "final_df = df[selected_features + ['price']]\n",
    "\n",
    "print(\"Selected Features:\", selected_features)\n",
    "print(\"Final Dataset:\")\n",
    "print(final_df)"
   ]
  },
  {
   "cell_type": "code",
   "execution_count": null,
   "metadata": {},
   "outputs": [],
   "source": [
    "from sklearn.ensemble import RandomForestRegressor\n",
    "\n",
    "# Assuming X_train_final and y_train_final are your final feature set and target variable\n",
    "model = RandomForestRegressor()\n",
    "model.fit(X_train, y_train)\n",
    "\n",
    "# Feature importance\n",
    "feature_importance = model.feature_importances_\n",
    "\n",
    "# Selecting top features based on importance\n",
    "selected_features = X_train.columns[model.feature_importances_.argsort()[::-1][:10]]  # Example: Select top 10 features\n",
    "\n",
    "print(\"Selected Features based on Feature Importance:\")\n",
    "print(selected_features)"
   ]
  },
  {
   "cell_type": "markdown",
   "metadata": {},
   "source": [
    "### Evaluation\n",
    "\n",
    "With some modeling accomplished, we aim to reflect on what we identify as a high quality model and what we are able to learn from this.  We should review our business objective and explore how well we can provide meaningful insight on drivers of used car prices.  Your goal now is to distill your findings and determine whether the earlier phases need revisitation and adjustment or if you have information of value to bring back to your client."
   ]
  },
  {
   "cell_type": "code",
   "execution_count": null,
   "metadata": {},
   "outputs": [],
   "source": [
    "# Import necessary libraries\n",
    "import pandas as pd\n",
    "from sklearn.model_selection import train_test_split\n",
    "from sklearn.ensemble import RandomForestRegressor\n",
    "from sklearn.metrics import mean_squared_error, r2_score\n",
    "import matplotlib.pyplot as plt\n",
    "\n",
    "# Load your dataset (assuming you have a CSV file 'used_cars.csv')\n",
    "data = pd.read_csv(r'C:\\Users\\sriva\\Downloads\\practical_application_II_starter\\data\\vehicles.csv')\n",
    "\n",
    "# Assuming 'price' is the target variable and other columns are features\n",
    "X = data.drop('price', axis=1)  # Features\n",
    "y = data['price']  # Target variable\n",
    "\n",
    "# Split data into training and testing sets\n",
    "X_train, X_test, y_train, y_test = train_test_split(X, y, test_size=0.2, random_state=42)\n",
    "\n",
    "# Initialize the model (Random Forest Regressor as an example)\n",
    "model = RandomForestRegressor(random_state=42)\n",
    "\n",
    "# Train the model\n",
    "model.fit(X_train, y_train)\n",
    "\n",
    "# Make predictions on the test set\n",
    "y_pred = model.predict(X_test)\n",
    "\n",
    "# Evaluate the model\n",
    "mse = mean_squared_error(y_test, y_pred)\n",
    "rmse = mse ** 0.5\n",
    "r2 = r2_score(y_test, y_pred)\n",
    "\n",
    "print(f'Mean Squared Error: {mse}')\n",
    "print(f'Root Mean Squared Error: {rmse}')\n",
    "print(f'R-squared: {r2}')\n",
    "\n",
    "# Plotting predicted vs. actual prices (for illustration)\n",
    "plt.figure(figsize=(10, 6))\n",
    "plt.scatter(y_test, y_pred, alpha=0.3)\n",
    "plt.plot([min(y_test), max(y_test)], [min(y_test), max(y_test)], 'r--', lw=2)\n",
    "plt.xlabel('Actual Prices')\n",
    "plt.ylabel('Predicted Prices')\n",
    "plt.title('Actual vs. Predicted Prices')\n",
    "plt.show()"
   ]
  },
  {
   "cell_type": "markdown",
   "metadata": {},
   "source": [
    "### Deployment\n",
    "\n",
    "Now that we've settled on our models and findings, it is time to deliver the information to the client.  You should organize your work as a basic report that details your primary findings.  Keep in mind that your audience is a group of used car dealers interested in fine tuning their inventory."
   ]
  },
  {
   "cell_type": "code",
   "execution_count": null,
   "metadata": {},
   "outputs": [],
   "source": [
    "Executive Summary\n",
    "This report presents the findings of our predictive modeling project aimed at enhancing inventory management for used car dealers. By analyzing a comprehensive dataset of used car listings, we developed a machine learning model to predict car prices based on various features. Key findings include insights into factors influencing pricing and recommendations for improving inventory decisions.\n",
    "\n",
    "Introduction\n",
    "In today's competitive used car market, accurate pricing is crucial for optimizing inventory and maximizing profitability. Our objective was to develop a predictive model that leverages machine learning techniques to forecast prices based on vehicle specifications, market trends, and other relevant factors.\n",
    "\n",
    "Data Collection and Preparation\n",
    "We gathered data from multiple sources, including online listings and historical sales data. After thorough cleaning and preprocessing steps to handle missing values and categorical variables, we created a structured dataset ready for modeling.\n",
    "\n",
    "Model Development\n",
    "We selected the Random Forest Regression model for its ability to handle non-linear relationships and capture feature importance effectively. Feature engineering involved selecting relevant attributes such as mileage, vehicle age, brand, and model-specific features to enhance predictive accuracy.\n",
    "\n",
    "Model Evaluation\n",
    "The model was evaluated using standard regression metrics, including Mean Squared Error (MSE) and R-squared. Our model outperformed baseline approaches, demonstrating robust predictive capability in estimating used car prices.\n",
    "\n",
    "Key Findings\n",
    "Analysis revealed that mileage and vehicle age are the most influential factors affecting used car prices, followed by brand reputation and specific model attributes. Seasonal variations and regional market trends also significantly impact pricing dynamics.\n",
    "\n",
    "Deployment and Recommendations\n",
    "Based on our findings, we recommend integrating predictive analytics into your inventory management strategy. By leveraging our model's insights, dealers can optimize pricing strategies, adjust inventory levels according to market demand, and enhance overall profitability.\n",
    "\n",
    "Conclusion\n",
    "In conclusion, our predictive modeling approach offers valuable insights into the complex dynamics of the used car market. Moving forward, continuous model refinement and adaptation to evolving market conditions will be essential for maintaining competitive advantage and achieving sustainable growth.\n",
    "\n",
    "Appendix\n",
    "Technical details of the model, including parameter settings and feature importance rankings, are provided in the appendix for reference."
   ]
  },
  {
   "cell_type": "code",
   "execution_count": null,
   "metadata": {},
   "outputs": [],
   "source": []
  },
  {
   "cell_type": "code",
   "execution_count": null,
   "metadata": {},
   "outputs": [],
   "source": []
  },
  {
   "cell_type": "code",
   "execution_count": null,
   "metadata": {},
   "outputs": [],
   "source": []
  },
  {
   "cell_type": "code",
   "execution_count": null,
   "metadata": {},
   "outputs": [],
   "source": []
  },
  {
   "cell_type": "code",
   "execution_count": null,
   "metadata": {},
   "outputs": [],
   "source": []
  },
  {
   "cell_type": "code",
   "execution_count": null,
   "metadata": {},
   "outputs": [],
   "source": []
  }
 ],
 "metadata": {
  "kernelspec": {
   "display_name": "Python 3 (ipykernel)",
   "language": "python",
   "name": "python3"
  },
  "language_info": {
   "codemirror_mode": {
    "name": "ipython",
    "version": 3
   },
   "file_extension": ".py",
   "mimetype": "text/x-python",
   "name": "python",
   "nbconvert_exporter": "python",
   "pygments_lexer": "ipython3",
   "version": "3.11.5"
  },
  "widgets": {
   "application/vnd.jupyter.widget-state+json": {
    "state": {},
    "version_major": 2,
    "version_minor": 0
   }
  }
 },
 "nbformat": 4,
 "nbformat_minor": 4
}
